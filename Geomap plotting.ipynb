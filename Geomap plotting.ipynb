{
 "cells": [
  {
   "cell_type": "code",
   "execution_count": 1,
   "id": "4f6cd4b8",
   "metadata": {},
   "outputs": [],
   "source": [
    "import geopandas as gpd\n",
    "import pandas as pd\n",
    "import boto3"
   ]
  },
  {
   "cell_type": "code",
   "execution_count": 4,
   "id": "399cd03f",
   "metadata": {},
   "outputs": [],
   "source": [
    "#This shapefile is not in this github repository, but it's basically the 'geojson' of all the dissemination\n",
    "#areas borders coordinates in Canada. In this part I cutted it down to only the island of Montreal.\n",
    "shapefile = gpd.read_file('/Users/edinsonjimenezarita/Projects/Real_estate_project/Data/lda_000b21a_e/lda_000b21a_e.shp')"
   ]
  },
  {
   "cell_type": "code",
   "execution_count": 2,
   "id": "001ee41a-355d-4411-81a3-3df20a1c2ce9",
   "metadata": {},
   "outputs": [],
   "source": [
    "#I will save this file into my S3 bucket to use it in the futur, just in case\n",
    "s3 = boto3.resource('s3')\n",
    "bucketname = 'realtor-bucket-edinson'\n",
    "source_key = 'MTL_map/Quebec_geojson.shp'\n",
    "destination_filepath = \"/Users/edinsonjimenezarita/Projects/Real_estate_project/Data/lda_000b21a_e/lda_000b21a_e.shp\"\n",
    "\n",
    "s3.meta.client.upload_file(destination_filepath, bucketname, source_key)"
   ]
  },
  {
   "cell_type": "code",
   "execution_count": 5,
   "id": "c3f13313",
   "metadata": {},
   "outputs": [],
   "source": [
    "Quebec = shapefile[shapefile['PRUID'] == '24']"
   ]
  },
  {
   "cell_type": "code",
   "execution_count": 6,
   "id": "ad5258a8",
   "metadata": {},
   "outputs": [
    {
     "data": {
      "text/plain": [
       "geopandas.geodataframe.GeoDataFrame"
      ]
     },
     "execution_count": 6,
     "metadata": {},
     "output_type": "execute_result"
    }
   ],
   "source": [
    "type(Quebec)"
   ]
  },
  {
   "cell_type": "code",
   "execution_count": 7,
   "id": "1f80869a",
   "metadata": {},
   "outputs": [],
   "source": [
    "Quebec.reset_index(drop=True, inplace=True)"
   ]
  },
  {
   "cell_type": "code",
   "execution_count": 8,
   "id": "154076b1",
   "metadata": {},
   "outputs": [
    {
     "data": {
      "text/html": [
       "<div>\n",
       "<style scoped>\n",
       "    .dataframe tbody tr th:only-of-type {\n",
       "        vertical-align: middle;\n",
       "    }\n",
       "\n",
       "    .dataframe tbody tr th {\n",
       "        vertical-align: top;\n",
       "    }\n",
       "\n",
       "    .dataframe thead th {\n",
       "        text-align: right;\n",
       "    }\n",
       "</style>\n",
       "<table border=\"1\" class=\"dataframe\">\n",
       "  <thead>\n",
       "    <tr style=\"text-align: right;\">\n",
       "      <th></th>\n",
       "      <th>DAUID</th>\n",
       "      <th>DGUID</th>\n",
       "      <th>LANDAREA</th>\n",
       "      <th>PRUID</th>\n",
       "      <th>geometry</th>\n",
       "    </tr>\n",
       "  </thead>\n",
       "  <tbody>\n",
       "    <tr>\n",
       "      <th>0</th>\n",
       "      <td>24010018</td>\n",
       "      <td>2021S051224010018</td>\n",
       "      <td>32.2762</td>\n",
       "      <td>24</td>\n",
       "      <td>MULTIPOLYGON (((8412579.280 1807747.329, 84125...</td>\n",
       "    </tr>\n",
       "    <tr>\n",
       "      <th>1</th>\n",
       "      <td>24010019</td>\n",
       "      <td>2021S051224010019</td>\n",
       "      <td>7.1480</td>\n",
       "      <td>24</td>\n",
       "      <td>MULTIPOLYGON (((8410453.674 1803532.114, 84104...</td>\n",
       "    </tr>\n",
       "    <tr>\n",
       "      <th>2</th>\n",
       "      <td>24010020</td>\n",
       "      <td>2021S051224010020</td>\n",
       "      <td>24.4604</td>\n",
       "      <td>24</td>\n",
       "      <td>MULTIPOLYGON (((8397174.929 1779609.040, 83971...</td>\n",
       "    </tr>\n",
       "    <tr>\n",
       "      <th>3</th>\n",
       "      <td>24010021</td>\n",
       "      <td>2021S051224010021</td>\n",
       "      <td>2.9416</td>\n",
       "      <td>24</td>\n",
       "      <td>POLYGON ((8402057.626 1784177.277, 8402079.000...</td>\n",
       "    </tr>\n",
       "    <tr>\n",
       "      <th>4</th>\n",
       "      <td>24010022</td>\n",
       "      <td>2021S051224010022</td>\n",
       "      <td>3.9757</td>\n",
       "      <td>24</td>\n",
       "      <td>POLYGON ((8401357.871 1782296.249, 8401355.760...</td>\n",
       "    </tr>\n",
       "    <tr>\n",
       "      <th>...</th>\n",
       "      <td>...</td>\n",
       "      <td>...</td>\n",
       "      <td>...</td>\n",
       "      <td>...</td>\n",
       "      <td>...</td>\n",
       "    </tr>\n",
       "    <tr>\n",
       "      <th>13800</th>\n",
       "      <td>24990261</td>\n",
       "      <td>2021S051224990261</td>\n",
       "      <td>7.4501</td>\n",
       "      <td>24</td>\n",
       "      <td>POLYGON ((7073688.866 2222086.634, 7072687.157...</td>\n",
       "    </tr>\n",
       "    <tr>\n",
       "      <th>13801</th>\n",
       "      <td>24990263</td>\n",
       "      <td>2021S051224990263</td>\n",
       "      <td>282499.8829</td>\n",
       "      <td>24</td>\n",
       "      <td>MULTIPOLYGON (((6987511.297 2085889.631, 69874...</td>\n",
       "    </tr>\n",
       "    <tr>\n",
       "      <th>13802</th>\n",
       "      <td>24990264</td>\n",
       "      <td>2021S051224990264</td>\n",
       "      <td>96.2223</td>\n",
       "      <td>24</td>\n",
       "      <td>POLYGON ((7414350.691 1701024.594, 7414348.889...</td>\n",
       "    </tr>\n",
       "    <tr>\n",
       "      <th>13803</th>\n",
       "      <td>24990266</td>\n",
       "      <td>2021S051224990266</td>\n",
       "      <td>213.3539</td>\n",
       "      <td>24</td>\n",
       "      <td>POLYGON ((7334688.269 1656454.940, 7334800.717...</td>\n",
       "    </tr>\n",
       "    <tr>\n",
       "      <th>13804</th>\n",
       "      <td>24990267</td>\n",
       "      <td>2021S051224990267</td>\n",
       "      <td>152.9019</td>\n",
       "      <td>24</td>\n",
       "      <td>POLYGON ((7342848.666 1657083.703, 7342749.446...</td>\n",
       "    </tr>\n",
       "  </tbody>\n",
       "</table>\n",
       "<p>13805 rows × 5 columns</p>\n",
       "</div>"
      ],
      "text/plain": [
       "          DAUID              DGUID     LANDAREA PRUID  \\\n",
       "0      24010018  2021S051224010018      32.2762    24   \n",
       "1      24010019  2021S051224010019       7.1480    24   \n",
       "2      24010020  2021S051224010020      24.4604    24   \n",
       "3      24010021  2021S051224010021       2.9416    24   \n",
       "4      24010022  2021S051224010022       3.9757    24   \n",
       "...         ...                ...          ...   ...   \n",
       "13800  24990261  2021S051224990261       7.4501    24   \n",
       "13801  24990263  2021S051224990263  282499.8829    24   \n",
       "13802  24990264  2021S051224990264      96.2223    24   \n",
       "13803  24990266  2021S051224990266     213.3539    24   \n",
       "13804  24990267  2021S051224990267     152.9019    24   \n",
       "\n",
       "                                                geometry  \n",
       "0      MULTIPOLYGON (((8412579.280 1807747.329, 84125...  \n",
       "1      MULTIPOLYGON (((8410453.674 1803532.114, 84104...  \n",
       "2      MULTIPOLYGON (((8397174.929 1779609.040, 83971...  \n",
       "3      POLYGON ((8402057.626 1784177.277, 8402079.000...  \n",
       "4      POLYGON ((8401357.871 1782296.249, 8401355.760...  \n",
       "...                                                  ...  \n",
       "13800  POLYGON ((7073688.866 2222086.634, 7072687.157...  \n",
       "13801  MULTIPOLYGON (((6987511.297 2085889.631, 69874...  \n",
       "13802  POLYGON ((7414350.691 1701024.594, 7414348.889...  \n",
       "13803  POLYGON ((7334688.269 1656454.940, 7334800.717...  \n",
       "13804  POLYGON ((7342848.666 1657083.703, 7342749.446...  \n",
       "\n",
       "[13805 rows x 5 columns]"
      ]
     },
     "execution_count": 8,
     "metadata": {},
     "output_type": "execute_result"
    }
   ],
   "source": [
    "Quebec"
   ]
  },
  {
   "cell_type": "code",
   "execution_count": 9,
   "id": "ff1e3ee9",
   "metadata": {},
   "outputs": [],
   "source": [
    "Montreal = Quebec[Quebec['DAUID'].str.startswith('2466')]\n",
    "Montreal.reset_index(drop=True, inplace=True)"
   ]
  },
  {
   "cell_type": "code",
   "execution_count": 10,
   "id": "5d27f5e5",
   "metadata": {},
   "outputs": [
    {
     "data": {
      "text/html": [
       "<div>\n",
       "<style scoped>\n",
       "    .dataframe tbody tr th:only-of-type {\n",
       "        vertical-align: middle;\n",
       "    }\n",
       "\n",
       "    .dataframe tbody tr th {\n",
       "        vertical-align: top;\n",
       "    }\n",
       "\n",
       "    .dataframe thead th {\n",
       "        text-align: right;\n",
       "    }\n",
       "</style>\n",
       "<table border=\"1\" class=\"dataframe\">\n",
       "  <thead>\n",
       "    <tr style=\"text-align: right;\">\n",
       "      <th></th>\n",
       "      <th>DAUID</th>\n",
       "      <th>DGUID</th>\n",
       "      <th>LANDAREA</th>\n",
       "      <th>PRUID</th>\n",
       "      <th>geometry</th>\n",
       "    </tr>\n",
       "  </thead>\n",
       "  <tbody>\n",
       "    <tr>\n",
       "      <th>0</th>\n",
       "      <td>24660001</td>\n",
       "      <td>2021S051224660001</td>\n",
       "      <td>0.3081</td>\n",
       "      <td>24</td>\n",
       "      <td>MULTIPOLYGON (((7632186.851 1268285.311, 76321...</td>\n",
       "    </tr>\n",
       "    <tr>\n",
       "      <th>1</th>\n",
       "      <td>24660002</td>\n",
       "      <td>2021S051224660002</td>\n",
       "      <td>0.1067</td>\n",
       "      <td>24</td>\n",
       "      <td>POLYGON ((7631916.654 1267639.486, 7631922.811...</td>\n",
       "    </tr>\n",
       "    <tr>\n",
       "      <th>2</th>\n",
       "      <td>24660003</td>\n",
       "      <td>2021S051224660003</td>\n",
       "      <td>0.0599</td>\n",
       "      <td>24</td>\n",
       "      <td>POLYGON ((7631962.934 1267729.743, 7631781.297...</td>\n",
       "    </tr>\n",
       "    <tr>\n",
       "      <th>3</th>\n",
       "      <td>24660004</td>\n",
       "      <td>2021S051224660004</td>\n",
       "      <td>0.0823</td>\n",
       "      <td>24</td>\n",
       "      <td>POLYGON ((7631758.591 1267304.960, 7631796.726...</td>\n",
       "    </tr>\n",
       "    <tr>\n",
       "      <th>4</th>\n",
       "      <td>24660005</td>\n",
       "      <td>2021S051224660005</td>\n",
       "      <td>0.0628</td>\n",
       "      <td>24</td>\n",
       "      <td>POLYGON ((7632047.437 1267063.994, 7631991.320...</td>\n",
       "    </tr>\n",
       "    <tr>\n",
       "      <th>...</th>\n",
       "      <td>...</td>\n",
       "      <td>...</td>\n",
       "      <td>...</td>\n",
       "      <td>...</td>\n",
       "      <td>...</td>\n",
       "    </tr>\n",
       "    <tr>\n",
       "      <th>3223</th>\n",
       "      <td>24663493</td>\n",
       "      <td>2021S051224663493</td>\n",
       "      <td>0.0475</td>\n",
       "      <td>24</td>\n",
       "      <td>POLYGON ((7633093.583 1244021.440, 7633071.600...</td>\n",
       "    </tr>\n",
       "    <tr>\n",
       "      <th>3224</th>\n",
       "      <td>24663494</td>\n",
       "      <td>2021S051224663494</td>\n",
       "      <td>0.2098</td>\n",
       "      <td>24</td>\n",
       "      <td>POLYGON ((7623207.506 1245583.311, 7623206.003...</td>\n",
       "    </tr>\n",
       "    <tr>\n",
       "      <th>3225</th>\n",
       "      <td>24663495</td>\n",
       "      <td>2021S051224663495</td>\n",
       "      <td>0.0403</td>\n",
       "      <td>24</td>\n",
       "      <td>POLYGON ((7622418.289 1245342.769, 7622458.557...</td>\n",
       "    </tr>\n",
       "    <tr>\n",
       "      <th>3226</th>\n",
       "      <td>24663496</td>\n",
       "      <td>2021S051224663496</td>\n",
       "      <td>0.0176</td>\n",
       "      <td>24</td>\n",
       "      <td>POLYGON ((7623471.114 1244281.851, 7623512.169...</td>\n",
       "    </tr>\n",
       "    <tr>\n",
       "      <th>3227</th>\n",
       "      <td>24663497</td>\n",
       "      <td>2021S051224663497</td>\n",
       "      <td>0.4765</td>\n",
       "      <td>24</td>\n",
       "      <td>POLYGON ((7623489.694 1244289.334, 7623505.417...</td>\n",
       "    </tr>\n",
       "  </tbody>\n",
       "</table>\n",
       "<p>3228 rows × 5 columns</p>\n",
       "</div>"
      ],
      "text/plain": [
       "         DAUID              DGUID  LANDAREA PRUID  \\\n",
       "0     24660001  2021S051224660001    0.3081    24   \n",
       "1     24660002  2021S051224660002    0.1067    24   \n",
       "2     24660003  2021S051224660003    0.0599    24   \n",
       "3     24660004  2021S051224660004    0.0823    24   \n",
       "4     24660005  2021S051224660005    0.0628    24   \n",
       "...        ...                ...       ...   ...   \n",
       "3223  24663493  2021S051224663493    0.0475    24   \n",
       "3224  24663494  2021S051224663494    0.2098    24   \n",
       "3225  24663495  2021S051224663495    0.0403    24   \n",
       "3226  24663496  2021S051224663496    0.0176    24   \n",
       "3227  24663497  2021S051224663497    0.4765    24   \n",
       "\n",
       "                                               geometry  \n",
       "0     MULTIPOLYGON (((7632186.851 1268285.311, 76321...  \n",
       "1     POLYGON ((7631916.654 1267639.486, 7631922.811...  \n",
       "2     POLYGON ((7631962.934 1267729.743, 7631781.297...  \n",
       "3     POLYGON ((7631758.591 1267304.960, 7631796.726...  \n",
       "4     POLYGON ((7632047.437 1267063.994, 7631991.320...  \n",
       "...                                                 ...  \n",
       "3223  POLYGON ((7633093.583 1244021.440, 7633071.600...  \n",
       "3224  POLYGON ((7623207.506 1245583.311, 7623206.003...  \n",
       "3225  POLYGON ((7622418.289 1245342.769, 7622458.557...  \n",
       "3226  POLYGON ((7623471.114 1244281.851, 7623512.169...  \n",
       "3227  POLYGON ((7623489.694 1244289.334, 7623505.417...  \n",
       "\n",
       "[3228 rows x 5 columns]"
      ]
     },
     "execution_count": 10,
     "metadata": {},
     "output_type": "execute_result"
    }
   ],
   "source": [
    "Montreal"
   ]
  },
  {
   "cell_type": "code",
   "execution_count": 11,
   "id": "bf6add0b",
   "metadata": {},
   "outputs": [
    {
     "data": {
      "text/plain": [
       "<Axes: >"
      ]
     },
     "execution_count": 11,
     "metadata": {},
     "output_type": "execute_result"
    },
    {
     "data": {
      "image/png": "[encoded data removed]",
      "text/plain": [
       "<Figure size 640x480 with 1 Axes>"
      ]
     },
     "metadata": {},
     "output_type": "display_data"
    }
   ],
   "source": [
    "Montreal.plot()"
   ]
  },
  {
   "cell_type": "markdown",
   "id": "d2944c72",
   "metadata": {},
   "source": [
    "The thing that is missing in this dataset is an unique set of coordinates for every single dissemination area. Probably I can get the center of the multipolygon. Or perhaps the weighted average of the coordinates. The average will be difficult, since I might fall outside the area if I take the average??!"
   ]
  },
  {
   "cell_type": "code",
   "execution_count": 13,
   "id": "b06b2e5a-3a8e-447a-8018-05f007bd2f4e",
   "metadata": {},
   "outputs": [],
   "source": [
    "Montreal.set_index('DAUID', inplace=True)"
   ]
  },
  {
   "cell_type": "code",
   "execution_count": 15,
   "id": "f7158718-9169-4742-95e9-cbe2b339e075",
   "metadata": {},
   "outputs": [
    {
     "name": "stderr",
     "output_type": "stream",
     "text": [
      "/var/folders/hj/q5jr6s8s50g6rgdb0hlcrzgw0000gn/T/ipykernel_4096/743549716.py:1: SettingWithCopyWarning: \n",
      "A value is trying to be set on a copy of a slice from a DataFrame\n",
      "\n",
      "See the caveats in the documentation: https://pandas.pydata.org/pandas-docs/stable/user_guide/indexing.html#returning-a-view-versus-a-copy\n",
      "  Montreal.drop(['PRUID', 'DGUID'], axis=1, inplace=True)\n"
     ]
    }
   ],
   "source": [
    "Montreal.drop(['PRUID', 'DGUID'], axis=1, inplace=True)"
   ]
  },
  {
   "cell_type": "code",
   "execution_count": 17,
   "id": "47790c6b-6f41-4f54-b428-b78ff0e2f573",
   "metadata": {},
   "outputs": [
    {
     "data": {
      "text/html": [
       "<div>\n",
       "<style scoped>\n",
       "    .dataframe tbody tr th:only-of-type {\n",
       "        vertical-align: middle;\n",
       "    }\n",
       "\n",
       "    .dataframe tbody tr th {\n",
       "        vertical-align: top;\n",
       "    }\n",
       "\n",
       "    .dataframe thead th {\n",
       "        text-align: right;\n",
       "    }\n",
       "</style>\n",
       "<table border=\"1\" class=\"dataframe\">\n",
       "  <thead>\n",
       "    <tr style=\"text-align: right;\">\n",
       "      <th></th>\n",
       "      <th>LANDAREA</th>\n",
       "      <th>geometry</th>\n",
       "    </tr>\n",
       "    <tr>\n",
       "      <th>DAUID</th>\n",
       "      <th></th>\n",
       "      <th></th>\n",
       "    </tr>\n",
       "  </thead>\n",
       "  <tbody>\n",
       "    <tr>\n",
       "      <th>24660001</th>\n",
       "      <td>0.3081</td>\n",
       "      <td>MULTIPOLYGON (((7632186.851 1268285.311, 76321...</td>\n",
       "    </tr>\n",
       "    <tr>\n",
       "      <th>24660002</th>\n",
       "      <td>0.1067</td>\n",
       "      <td>POLYGON ((7631916.654 1267639.486, 7631922.811...</td>\n",
       "    </tr>\n",
       "    <tr>\n",
       "      <th>24660003</th>\n",
       "      <td>0.0599</td>\n",
       "      <td>POLYGON ((7631962.934 1267729.743, 7631781.297...</td>\n",
       "    </tr>\n",
       "    <tr>\n",
       "      <th>24660004</th>\n",
       "      <td>0.0823</td>\n",
       "      <td>POLYGON ((7631758.591 1267304.960, 7631796.726...</td>\n",
       "    </tr>\n",
       "    <tr>\n",
       "      <th>24660005</th>\n",
       "      <td>0.0628</td>\n",
       "      <td>POLYGON ((7632047.437 1267063.994, 7631991.320...</td>\n",
       "    </tr>\n",
       "  </tbody>\n",
       "</table>\n",
       "</div>"
      ],
      "text/plain": [
       "          LANDAREA                                           geometry\n",
       "DAUID                                                                \n",
       "24660001    0.3081  MULTIPOLYGON (((7632186.851 1268285.311, 76321...\n",
       "24660002    0.1067  POLYGON ((7631916.654 1267639.486, 7631922.811...\n",
       "24660003    0.0599  POLYGON ((7631962.934 1267729.743, 7631781.297...\n",
       "24660004    0.0823  POLYGON ((7631758.591 1267304.960, 7631796.726...\n",
       "24660005    0.0628  POLYGON ((7632047.437 1267063.994, 7631991.320..."
      ]
     },
     "execution_count": 17,
     "metadata": {},
     "output_type": "execute_result"
    }
   ],
   "source": [
    "Montreal.head()"
   ]
  },
  {
   "cell_type": "code",
   "execution_count": 18,
   "id": "16ad60e7-5b33-4909-a67e-e2f8f79e08c4",
   "metadata": {},
   "outputs": [
    {
     "name": "stderr",
     "output_type": "stream",
     "text": [
      "/Users/edinsonjimenezarita/anaconda3/lib/python3.10/site-packages/geopandas/geodataframe.py:1538: SettingWithCopyWarning: \n",
      "A value is trying to be set on a copy of a slice from a DataFrame.\n",
      "Try using .loc[row_indexer,col_indexer] = value instead\n",
      "\n",
      "See the caveats in the documentation: https://pandas.pydata.org/pandas-docs/stable/user_guide/indexing.html#returning-a-view-versus-a-copy\n",
      "  super().__setitem__(key, value)\n"
     ]
    }
   ],
   "source": [
    "#Has to convert to latitude, longitude projection because plotly can only read that system of coordinates\n",
    "Montreal.to_crs(crs=\"EPSG:4326\", inplace=True)"
   ]
  },
  {
   "cell_type": "code",
   "execution_count": 19,
   "id": "2f299713",
   "metadata": {},
   "outputs": [],
   "source": [
    "filepath = \"/Users/edinsonjimenezarita/Projects/MTL_map_AWS/Montreal_geojson.geojson\"\n",
    "Montreal.to_file(filepath, driver = \"GeoJSON\")\n",
    "#Note: If I ever want to open this file I have to do this:\n",
    "# Montreal = gpd.read_file(filepath)"
   ]
  },
  {
   "cell_type": "code",
   "execution_count": 20,
   "id": "d05ec34f-00e8-42a9-90cd-82066c6d7bf0",
   "metadata": {},
   "outputs": [],
   "source": [
    "#I will save it also in S3 bucket\n",
    "source_key2 = 'MTL_map/Montreal_geojson.geojson'\n",
    "destination_filepath2 = \"/Users/edinsonjimenezarita/Projects/MTL_map_AWS/Montreal_geojson.geojson\"\n",
    "\n",
    "s3.meta.client.upload_file(destination_filepath2, bucketname, source_key2)"
   ]
  },
  {
   "cell_type": "code",
   "execution_count": 21,
   "id": "cabcbe52",
   "metadata": {},
   "outputs": [],
   "source": [
    "import plotly.express as px"
   ]
  },
  {
   "cell_type": "code",
   "execution_count": 22,
   "id": "472da05c",
   "metadata": {},
   "outputs": [
    {
     "data": {
      "text/html": [
       "        <script type=\"text/javascript\">\n",
       "        window.PlotlyConfig = {MathJaxConfig: 'local'};\n",
       "        if (window.MathJax && window.MathJax.Hub && window.MathJax.Hub.Config) {window.MathJax.Hub.Config({SVG: {font: \"STIX-Web\"}});}\n",
       "        if (typeof require !== 'undefined') {\n",
       "        require.undef(\"plotly\");\n",
       "        requirejs.config({\n",
       "            paths: {\n",
       "                'plotly': ['https://cdn.plot.ly/plotly-2.25.2.min']\n",
       "            }\n",
       "        });\n",
       "        require(['plotly'], function(Plotly) {\n",
       "            window._Plotly = Plotly;\n",
       "        });\n",
       "        }\n",
       "        </script>\n",
       "        "
      ]
     },
     "metadata": {},
     "output_type": "display_data"
    }
   ],
   "source": [
    "#Was wondering why the map was not appearing, or not showing the sections, but it happened that I had to enable the notebook rendered\n",
    "import plotly.io as pio\n",
    "pio.renderers.default = 'notebook'\n",
    "\n",
    "import plotly.offline as pyo\n",
    "pyo.init_notebook_mode(connected=True)"
   ]
  },
  {
   "cell_type": "code",
   "execution_count": null,
   "id": "5708f522",
   "metadata": {
    "scrolled": true
   },
   "outputs": [],
   "source": [
    "fig = px.choropleth_mapbox(Montreal ,geojson=Montreal.geometry, locations=Montreal.index,\n",
    "        color='LANDAREA', opacity=0.4, mapbox_style='open-street-map', zoom=9,center={'lat': 45.52, 'lon': -73.70}, height=800)\n",
    "fig.update_geos(fitbounds='locations', visible=False)"
   ]
  },
  {
   "cell_type": "markdown",
   "id": "fc2db8ff-c0ae-4cf3-9d86-2cdffa6f2cf4",
   "metadata": {},
   "source": [
    "Next I will need to find the lattitude and longitude of the center of every single area!"
   ]
  },
  {
   "cell_type": "code",
   "execution_count": 24,
   "id": "7dae2db1-6c54-4f1d-9186-8b14a6df8fe3",
   "metadata": {},
   "outputs": [
    {
     "name": "stderr",
     "output_type": "stream",
     "text": [
      "/var/folders/hj/q5jr6s8s50g6rgdb0hlcrzgw0000gn/T/ipykernel_4096/3625965864.py:1: UserWarning:\n",
      "\n",
      "Geometry is in a geographic CRS. Results from 'centroid' are likely incorrect. Use 'GeoSeries.to_crs()' to re-project geometries to a projected CRS before this operation.\n",
      "\n",
      "\n",
      "/Users/edinsonjimenezarita/anaconda3/lib/python3.10/site-packages/geopandas/geodataframe.py:1538: SettingWithCopyWarning:\n",
      "\n",
      "\n",
      "A value is trying to be set on a copy of a slice from a DataFrame.\n",
      "Try using .loc[row_indexer,col_indexer] = value instead\n",
      "\n",
      "See the caveats in the documentation: https://pandas.pydata.org/pandas-docs/stable/user_guide/indexing.html#returning-a-view-versus-a-copy\n",
      "\n",
      "/var/folders/hj/q5jr6s8s50g6rgdb0hlcrzgw0000gn/T/ipykernel_4096/3625965864.py:2: UserWarning:\n",
      "\n",
      "Geometry is in a geographic CRS. Results from 'centroid' are likely incorrect. Use 'GeoSeries.to_crs()' to re-project geometries to a projected CRS before this operation.\n",
      "\n",
      "\n",
      "/Users/edinsonjimenezarita/anaconda3/lib/python3.10/site-packages/geopandas/geodataframe.py:1538: SettingWithCopyWarning:\n",
      "\n",
      "\n",
      "A value is trying to be set on a copy of a slice from a DataFrame.\n",
      "Try using .loc[row_indexer,col_indexer] = value instead\n",
      "\n",
      "See the caveats in the documentation: https://pandas.pydata.org/pandas-docs/stable/user_guide/indexing.html#returning-a-view-versus-a-copy\n",
      "\n"
     ]
    }
   ],
   "source": [
    "#Just for curiosity\n",
    "Montreal[\"Lat_center\"] = Montreal.centroid.y\n",
    "Montreal[\"Long_center\"] = Montreal.centroid.x"
   ]
  },
  {
   "cell_type": "code",
   "execution_count": 25,
   "id": "a8c3a834-f37c-4b8a-a3bd-053f413ef35f",
   "metadata": {},
   "outputs": [],
   "source": [
    "#Have to transform the dtype of index into integer, to avoid compatibility problems with other dataframes that have\n",
    "#DAUID as integers when doing choropleth maps\n",
    "Montreal.index = Montreal.index.astype(dtype=int)"
   ]
  },
  {
   "cell_type": "code",
   "execution_count": 38,
   "id": "9b5c2cf9-c289-4a26-babb-6bfae447dcae",
   "metadata": {},
   "outputs": [
    {
     "data": {
      "text/html": [
       "<div>\n",
       "<style scoped>\n",
       "    .dataframe tbody tr th:only-of-type {\n",
       "        vertical-align: middle;\n",
       "    }\n",
       "\n",
       "    .dataframe tbody tr th {\n",
       "        vertical-align: top;\n",
       "    }\n",
       "\n",
       "    .dataframe thead th {\n",
       "        text-align: right;\n",
       "    }\n",
       "</style>\n",
       "<table border=\"1\" class=\"dataframe\">\n",
       "  <thead>\n",
       "    <tr style=\"text-align: right;\">\n",
       "      <th></th>\n",
       "      <th>LANDAREA</th>\n",
       "      <th>geometry</th>\n",
       "      <th>Lat_center</th>\n",
       "      <th>Long_center</th>\n",
       "    </tr>\n",
       "    <tr>\n",
       "      <th>DAUID</th>\n",
       "      <th></th>\n",
       "      <th></th>\n",
       "      <th></th>\n",
       "      <th></th>\n",
       "    </tr>\n",
       "  </thead>\n",
       "  <tbody>\n",
       "    <tr>\n",
       "      <th>24660001</th>\n",
       "      <td>0.3081</td>\n",
       "      <td>MULTIPOLYGON (((-73.47712 45.70179, -73.47719 ...</td>\n",
       "      <td>45.694584</td>\n",
       "      <td>-73.483134</td>\n",
       "    </tr>\n",
       "    <tr>\n",
       "      <th>24660002</th>\n",
       "      <td>0.1067</td>\n",
       "      <td>POLYGON ((-73.48273 45.69698, -73.48283 45.696...</td>\n",
       "      <td>45.695846</td>\n",
       "      <td>-73.484164</td>\n",
       "    </tr>\n",
       "    <tr>\n",
       "      <th>24660003</th>\n",
       "      <td>0.0599</td>\n",
       "      <td>POLYGON ((-73.48184 45.69763, -73.48414 45.697...</td>\n",
       "      <td>45.699465</td>\n",
       "      <td>-73.482081</td>\n",
       "    </tr>\n",
       "    <tr>\n",
       "      <th>24660004</th>\n",
       "      <td>0.0823</td>\n",
       "      <td>POLYGON ((-73.48585 45.69453, -73.48544 45.694...</td>\n",
       "      <td>45.693622</td>\n",
       "      <td>-73.485820</td>\n",
       "    </tr>\n",
       "    <tr>\n",
       "      <th>24660005</th>\n",
       "      <td>0.0628</td>\n",
       "      <td>POLYGON ((-73.48322 45.69175, -73.48450 45.690...</td>\n",
       "      <td>45.691833</td>\n",
       "      <td>-73.485121</td>\n",
       "    </tr>\n",
       "  </tbody>\n",
       "</table>\n",
       "</div>"
      ],
      "text/plain": [
       "          LANDAREA                                           geometry  \\\n",
       "DAUID                                                                   \n",
       "24660001    0.3081  MULTIPOLYGON (((-73.47712 45.70179, -73.47719 ...   \n",
       "24660002    0.1067  POLYGON ((-73.48273 45.69698, -73.48283 45.696...   \n",
       "24660003    0.0599  POLYGON ((-73.48184 45.69763, -73.48414 45.697...   \n",
       "24660004    0.0823  POLYGON ((-73.48585 45.69453, -73.48544 45.694...   \n",
       "24660005    0.0628  POLYGON ((-73.48322 45.69175, -73.48450 45.690...   \n",
       "\n",
       "          Lat_center  Long_center  \n",
       "DAUID                              \n",
       "24660001   45.694584   -73.483134  \n",
       "24660002   45.695846   -73.484164  \n",
       "24660003   45.699465   -73.482081  \n",
       "24660004   45.693622   -73.485820  \n",
       "24660005   45.691833   -73.485121  "
      ]
     },
     "execution_count": 38,
     "metadata": {},
     "output_type": "execute_result"
    }
   ],
   "source": [
    "Montreal.head()"
   ]
  },
  {
   "cell_type": "markdown",
   "id": "da3f68e1-b1f6-47e1-878a-052d95576670",
   "metadata": {},
   "source": [
    "FROM HERE I WILL TRY THE NEW FORM WITH GEOJSON WITH DATA FROM ANOTHER DATAFRAME"
   ]
  },
  {
   "cell_type": "code",
   "execution_count": 27,
   "id": "b66909aa-a410-4e1e-85e2-82448de6dd5c",
   "metadata": {},
   "outputs": [
    {
     "data": {
      "text/plain": [
       "'/Users/edinsonjimenezarita/Projects/MTL_map_AWS/Montreal_geojson.geojson'"
      ]
     },
     "execution_count": 27,
     "metadata": {},
     "output_type": "execute_result"
    }
   ],
   "source": [
    "filepath"
   ]
  },
  {
   "cell_type": "code",
   "execution_count": 39,
   "id": "28a08bd1-e554-4a3c-9bb3-8d201124a16f",
   "metadata": {},
   "outputs": [],
   "source": [
    "geojson = gpd.read_file(filepath)"
   ]
  },
  {
   "cell_type": "code",
   "execution_count": 40,
   "id": "4c53b536-5760-4a6a-b953-527a3618e629",
   "metadata": {},
   "outputs": [
    {
     "data": {
      "text/html": [
       "<div>\n",
       "<style scoped>\n",
       "    .dataframe tbody tr th:only-of-type {\n",
       "        vertical-align: middle;\n",
       "    }\n",
       "\n",
       "    .dataframe tbody tr th {\n",
       "        vertical-align: top;\n",
       "    }\n",
       "\n",
       "    .dataframe thead th {\n",
       "        text-align: right;\n",
       "    }\n",
       "</style>\n",
       "<table border=\"1\" class=\"dataframe\">\n",
       "  <thead>\n",
       "    <tr style=\"text-align: right;\">\n",
       "      <th></th>\n",
       "      <th>DAUID</th>\n",
       "      <th>LANDAREA</th>\n",
       "      <th>geometry</th>\n",
       "    </tr>\n",
       "  </thead>\n",
       "  <tbody>\n",
       "    <tr>\n",
       "      <th>0</th>\n",
       "      <td>24660001</td>\n",
       "      <td>0.3081</td>\n",
       "      <td>MULTIPOLYGON (((-73.47712 45.70179, -73.47719 ...</td>\n",
       "    </tr>\n",
       "    <tr>\n",
       "      <th>1</th>\n",
       "      <td>24660002</td>\n",
       "      <td>0.1067</td>\n",
       "      <td>POLYGON ((-73.48273 45.69698, -73.48283 45.696...</td>\n",
       "    </tr>\n",
       "    <tr>\n",
       "      <th>2</th>\n",
       "      <td>24660003</td>\n",
       "      <td>0.0599</td>\n",
       "      <td>POLYGON ((-73.48184 45.69763, -73.48414 45.697...</td>\n",
       "    </tr>\n",
       "    <tr>\n",
       "      <th>3</th>\n",
       "      <td>24660004</td>\n",
       "      <td>0.0823</td>\n",
       "      <td>POLYGON ((-73.48585 45.69453, -73.48544 45.694...</td>\n",
       "    </tr>\n",
       "    <tr>\n",
       "      <th>4</th>\n",
       "      <td>24660005</td>\n",
       "      <td>0.0628</td>\n",
       "      <td>POLYGON ((-73.48322 45.69175, -73.48450 45.690...</td>\n",
       "    </tr>\n",
       "  </tbody>\n",
       "</table>\n",
       "</div>"
      ],
      "text/plain": [
       "      DAUID  LANDAREA                                           geometry\n",
       "0  24660001    0.3081  MULTIPOLYGON (((-73.47712 45.70179, -73.47719 ...\n",
       "1  24660002    0.1067  POLYGON ((-73.48273 45.69698, -73.48283 45.696...\n",
       "2  24660003    0.0599  POLYGON ((-73.48184 45.69763, -73.48414 45.697...\n",
       "3  24660004    0.0823  POLYGON ((-73.48585 45.69453, -73.48544 45.694...\n",
       "4  24660005    0.0628  POLYGON ((-73.48322 45.69175, -73.48450 45.690..."
      ]
     },
     "execution_count": 40,
     "metadata": {},
     "output_type": "execute_result"
    }
   ],
   "source": [
    "geojson.head()"
   ]
  },
  {
   "cell_type": "code",
   "execution_count": 41,
   "id": "106b4b12-1fc7-441a-adec-4688732f0f05",
   "metadata": {},
   "outputs": [
    {
     "data": {
      "text/plain": [
       "str"
      ]
     },
     "execution_count": 41,
     "metadata": {},
     "output_type": "execute_result"
    }
   ],
   "source": [
    "type(geojson['DAUID'][0])"
   ]
  },
  {
   "cell_type": "code",
   "execution_count": 42,
   "id": "6a3363b6-87a9-48ce-8203-667e62af8417",
   "metadata": {},
   "outputs": [],
   "source": [
    "df = pd.read_csv('/Users/edinsonjimenezarita/Projects/MTL_map_AWS/mtl_pop.csv')"
   ]
  },
  {
   "cell_type": "code",
   "execution_count": 43,
   "id": "b7a13807-2e8a-4a69-8bbd-59f06170e9db",
   "metadata": {},
   "outputs": [
    {
     "data": {
      "text/html": [
       "<div>\n",
       "<style scoped>\n",
       "    .dataframe tbody tr th:only-of-type {\n",
       "        vertical-align: middle;\n",
       "    }\n",
       "\n",
       "    .dataframe tbody tr th {\n",
       "        vertical-align: top;\n",
       "    }\n",
       "\n",
       "    .dataframe thead th {\n",
       "        text-align: right;\n",
       "    }\n",
       "</style>\n",
       "<table border=\"1\" class=\"dataframe\">\n",
       "  <thead>\n",
       "    <tr style=\"text-align: right;\">\n",
       "      <th></th>\n",
       "      <th>DAUID</th>\n",
       "      <th>15 to 19 years</th>\n",
       "      <th>20 to 24 years</th>\n",
       "      <th>25 to 29 years</th>\n",
       "      <th>30 to 34 years</th>\n",
       "      <th>35 to 39 years</th>\n",
       "      <th>40 to 44 years</th>\n",
       "      <th>45 to 49 years</th>\n",
       "      <th>50 to 54 years</th>\n",
       "      <th>55 to 59 years</th>\n",
       "      <th>60 to 64 years</th>\n",
       "      <th>0 to 14 years</th>\n",
       "      <th>65 years and over</th>\n",
       "      <th>Average age of the population</th>\n",
       "      <th>Median age of the population</th>\n",
       "      <th>Total - Age groups of the population - 100% data</th>\n",
       "    </tr>\n",
       "  </thead>\n",
       "  <tbody>\n",
       "    <tr>\n",
       "      <th>0</th>\n",
       "      <td>24660001</td>\n",
       "      <td>4.6</td>\n",
       "      <td>3.8</td>\n",
       "      <td>2.3</td>\n",
       "      <td>4.6</td>\n",
       "      <td>5.4</td>\n",
       "      <td>6.9</td>\n",
       "      <td>5.4</td>\n",
       "      <td>6.2</td>\n",
       "      <td>12.3</td>\n",
       "      <td>10.0</td>\n",
       "      <td>13.8</td>\n",
       "      <td>25.4</td>\n",
       "      <td>47.4</td>\n",
       "      <td>53.6</td>\n",
       "      <td>100.0</td>\n",
       "    </tr>\n",
       "    <tr>\n",
       "      <th>1</th>\n",
       "      <td>24660002</td>\n",
       "      <td>7.4</td>\n",
       "      <td>3.7</td>\n",
       "      <td>4.6</td>\n",
       "      <td>5.6</td>\n",
       "      <td>5.6</td>\n",
       "      <td>4.6</td>\n",
       "      <td>8.3</td>\n",
       "      <td>5.6</td>\n",
       "      <td>9.3</td>\n",
       "      <td>11.1</td>\n",
       "      <td>16.7</td>\n",
       "      <td>16.7</td>\n",
       "      <td>42.4</td>\n",
       "      <td>45.2</td>\n",
       "      <td>100.0</td>\n",
       "    </tr>\n",
       "    <tr>\n",
       "      <th>2</th>\n",
       "      <td>24660003</td>\n",
       "      <td>4.9</td>\n",
       "      <td>6.6</td>\n",
       "      <td>6.6</td>\n",
       "      <td>4.9</td>\n",
       "      <td>6.6</td>\n",
       "      <td>6.6</td>\n",
       "      <td>4.9</td>\n",
       "      <td>8.2</td>\n",
       "      <td>9.8</td>\n",
       "      <td>6.6</td>\n",
       "      <td>13.1</td>\n",
       "      <td>19.7</td>\n",
       "      <td>44.0</td>\n",
       "      <td>46.0</td>\n",
       "      <td>100.0</td>\n",
       "    </tr>\n",
       "    <tr>\n",
       "      <th>3</th>\n",
       "      <td>24660004</td>\n",
       "      <td>3.7</td>\n",
       "      <td>3.7</td>\n",
       "      <td>3.7</td>\n",
       "      <td>5.6</td>\n",
       "      <td>3.7</td>\n",
       "      <td>5.6</td>\n",
       "      <td>5.6</td>\n",
       "      <td>5.6</td>\n",
       "      <td>11.1</td>\n",
       "      <td>16.7</td>\n",
       "      <td>11.1</td>\n",
       "      <td>25.9</td>\n",
       "      <td>49.2</td>\n",
       "      <td>56.8</td>\n",
       "      <td>100.0</td>\n",
       "    </tr>\n",
       "    <tr>\n",
       "      <th>4</th>\n",
       "      <td>24660005</td>\n",
       "      <td>6.4</td>\n",
       "      <td>6.4</td>\n",
       "      <td>0.0</td>\n",
       "      <td>2.1</td>\n",
       "      <td>6.4</td>\n",
       "      <td>8.5</td>\n",
       "      <td>8.5</td>\n",
       "      <td>8.5</td>\n",
       "      <td>14.9</td>\n",
       "      <td>12.8</td>\n",
       "      <td>14.9</td>\n",
       "      <td>14.9</td>\n",
       "      <td>45.2</td>\n",
       "      <td>50.4</td>\n",
       "      <td>100.0</td>\n",
       "    </tr>\n",
       "  </tbody>\n",
       "</table>\n",
       "</div>"
      ],
      "text/plain": [
       "      DAUID      15 to 19 years      20 to 24 years      25 to 29 years  \\\n",
       "0  24660001                 4.6                 3.8                 2.3   \n",
       "1  24660002                 7.4                 3.7                 4.6   \n",
       "2  24660003                 4.9                 6.6                 6.6   \n",
       "3  24660004                 3.7                 3.7                 3.7   \n",
       "4  24660005                 6.4                 6.4                 0.0   \n",
       "\n",
       "       30 to 34 years      35 to 39 years      40 to 44 years  \\\n",
       "0                 4.6                 5.4                 6.9   \n",
       "1                 5.6                 5.6                 4.6   \n",
       "2                 4.9                 6.6                 6.6   \n",
       "3                 5.6                 3.7                 5.6   \n",
       "4                 2.1                 6.4                 8.5   \n",
       "\n",
       "       45 to 49 years      50 to 54 years      55 to 59 years  \\\n",
       "0                 5.4                 6.2                12.3   \n",
       "1                 8.3                 5.6                 9.3   \n",
       "2                 4.9                 8.2                 9.8   \n",
       "3                 5.6                 5.6                11.1   \n",
       "4                 8.5                 8.5                14.9   \n",
       "\n",
       "       60 to 64 years    0 to 14 years    65 years and over  \\\n",
       "0                10.0             13.8                 25.4   \n",
       "1                11.1             16.7                 16.7   \n",
       "2                 6.6             13.1                 19.7   \n",
       "3                16.7             11.1                 25.9   \n",
       "4                12.8             14.9                 14.9   \n",
       "\n",
       "   Average age of the population  Median age of the population  \\\n",
       "0                           47.4                          53.6   \n",
       "1                           42.4                          45.2   \n",
       "2                           44.0                          46.0   \n",
       "3                           49.2                          56.8   \n",
       "4                           45.2                          50.4   \n",
       "\n",
       "   Total - Age groups of the population - 100% data  \n",
       "0                                             100.0  \n",
       "1                                             100.0  \n",
       "2                                             100.0  \n",
       "3                                             100.0  \n",
       "4                                             100.0  "
      ]
     },
     "execution_count": 43,
     "metadata": {},
     "output_type": "execute_result"
    }
   ],
   "source": [
    "df.head()"
   ]
  },
  {
   "cell_type": "code",
   "execution_count": 44,
   "id": "136208d2-6904-4c87-87f7-ede70b8fb935",
   "metadata": {},
   "outputs": [
    {
     "data": {
      "text/plain": [
       "numpy.int64"
      ]
     },
     "execution_count": 44,
     "metadata": {},
     "output_type": "execute_result"
    }
   ],
   "source": [
    "type(df['DAUID'][0])"
   ]
  },
  {
   "cell_type": "code",
   "execution_count": 45,
   "id": "3f0ffb17-95bf-48d6-a4d5-e57e5375b19f",
   "metadata": {},
   "outputs": [],
   "source": [
    "#I discover the problem is that you can't mix pandas dataframe with geopandas when geographical plotting. Therefore,\n",
    "#The only solution was using the json format and replace the gpd by this\n",
    "import json\n",
    "with open(\"/Users/edinsonjimenezarita/Projects/MTL_map_AWS/Montreal_geojson.geojson\", encoding='utf-8') as geofile:\n",
    "    j_file = json.load(geofile)"
   ]
  },
  {
   "cell_type": "code",
   "execution_count": null,
   "id": "13a9ec0f-9ae2-43cf-b8d8-aff9f937341c",
   "metadata": {
    "scrolled": true
   },
   "outputs": [],
   "source": [
    "fig = px.choropleth_mapbox(df ,geojson=j_file, locations='DAUID', featureidkey='properties.DAUID',\n",
    "        color='Median age of the population', opacity=0.4, mapbox_style='open-street-map', zoom=9,center={'lat': 45.52, 'lon': -73.70}, height=800)\n",
    "fig.update_geos(fitbounds='locations', visible=False)"
   ]
  },
  {
   "cell_type": "code",
   "execution_count": null,
   "id": "672c6de5-4ad1-4d64-ad36-7a1d2e14a2ec",
   "metadata": {},
   "outputs": [],
   "source": []
  }
 ],
 "metadata": {
  "kernelspec": {
   "display_name": "Python 3 (ipykernel)",
   "language": "python",
   "name": "python3"
  },
  "language_info": {
   "codemirror_mode": {
    "name": "ipython",
    "version": 3
   },
   "file_extension": ".py",
   "mimetype": "text/x-python",
   "name": "python",
   "nbconvert_exporter": "python",
   "pygments_lexer": "ipython3",
   "version": "3.10.11"
  }
 },
 "nbformat": 4,
 "nbformat_minor": 5
}
